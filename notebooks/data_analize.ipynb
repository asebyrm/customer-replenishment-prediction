{
 "cells": [
  {
   "cell_type": "code",
   "execution_count": 57,
   "id": "initial_id",
   "metadata": {
    "collapsed": true,
    "ExecuteTime": {
     "end_time": "2024-12-20T01:27:33.813862Z",
     "start_time": "2024-12-20T01:27:33.811062Z"
    }
   },
   "outputs": [],
   "source": [
    "import pandas as pd"
   ]
  },
  {
   "cell_type": "code",
   "outputs": [
    {
     "data": {
      "text/plain": "   customer_id  product_id  2020-06-01/2020-06-07  2020-06-08/2020-06-14  \\\n0          0.0      1505.0                    0.0                    0.0   \n1          0.0      6446.0                    0.0                    0.0   \n2          0.0      9325.0                    0.0                    0.0   \n3          0.0     12468.0                    0.0                    0.0   \n4          0.0     12505.0                    0.0                    0.0   \n\n   2020-06-15/2020-06-21  2020-06-22/2020-06-28  2020-06-29/2020-07-05  \\\n0                    0.0                    0.0                    0.0   \n1                    0.0                    0.0                    0.0   \n2                    0.0                    0.0                    0.0   \n3                    0.0                    0.0                    0.0   \n4                    0.0                    0.0                    0.0   \n\n   2020-07-06/2020-07-12  2020-07-13/2020-07-19  2020-07-20/2020-07-26  ...  \\\n0                    0.0                    0.0                    0.0  ...   \n1                    0.0                    0.0                    0.0  ...   \n2                    0.0                    0.0                    0.0  ...   \n3                    0.0                    0.0                    0.0  ...   \n4                    0.0                    0.0                    0.0  ...   \n\n   2020-11-23/2020-11-29  2020-11-30/2020-12-06  2020-12-07/2020-12-13  \\\n0                    0.0                    0.0                    0.0   \n1                    0.0                    0.0                    1.0   \n2                    0.0                    0.0                    0.0   \n3                    0.0                    0.0                    0.0   \n4                    0.0                    0.0                    0.0   \n\n   2020-12-14/2020-12-20  2020-12-21/2020-12-27  2020-12-28/2021-01-03  \\\n0                    0.0                    0.0                    0.0   \n1                    0.0                    0.0                    0.0   \n2                    0.0                    0.0                    0.0   \n3                    0.0                    0.0                    0.0   \n4                    0.0                    0.0                    0.0   \n\n   2021-01-04/2021-01-10  2021-01-11/2021-01-17  2021-01-18/2021-01-24  \\\n0                    0.0                    0.0                    0.0   \n1                    0.0                    1.0                    0.0   \n2                    0.0                    0.0                    0.0   \n3                    0.0                    0.0                    0.0   \n4                    0.0                    0.0                    0.0   \n\n   2021-01-25/2021-01-31  \n0                    0.0  \n1                    0.0  \n2                    0.0  \n3                    0.0  \n4                    0.0  \n\n[5 rows x 37 columns]",
      "text/html": "<div>\n<style scoped>\n    .dataframe tbody tr th:only-of-type {\n        vertical-align: middle;\n    }\n\n    .dataframe tbody tr th {\n        vertical-align: top;\n    }\n\n    .dataframe thead th {\n        text-align: right;\n    }\n</style>\n<table border=\"1\" class=\"dataframe\">\n  <thead>\n    <tr style=\"text-align: right;\">\n      <th></th>\n      <th>customer_id</th>\n      <th>product_id</th>\n      <th>2020-06-01/2020-06-07</th>\n      <th>2020-06-08/2020-06-14</th>\n      <th>2020-06-15/2020-06-21</th>\n      <th>2020-06-22/2020-06-28</th>\n      <th>2020-06-29/2020-07-05</th>\n      <th>2020-07-06/2020-07-12</th>\n      <th>2020-07-13/2020-07-19</th>\n      <th>2020-07-20/2020-07-26</th>\n      <th>...</th>\n      <th>2020-11-23/2020-11-29</th>\n      <th>2020-11-30/2020-12-06</th>\n      <th>2020-12-07/2020-12-13</th>\n      <th>2020-12-14/2020-12-20</th>\n      <th>2020-12-21/2020-12-27</th>\n      <th>2020-12-28/2021-01-03</th>\n      <th>2021-01-04/2021-01-10</th>\n      <th>2021-01-11/2021-01-17</th>\n      <th>2021-01-18/2021-01-24</th>\n      <th>2021-01-25/2021-01-31</th>\n    </tr>\n  </thead>\n  <tbody>\n    <tr>\n      <th>0</th>\n      <td>0.0</td>\n      <td>1505.0</td>\n      <td>0.0</td>\n      <td>0.0</td>\n      <td>0.0</td>\n      <td>0.0</td>\n      <td>0.0</td>\n      <td>0.0</td>\n      <td>0.0</td>\n      <td>0.0</td>\n      <td>...</td>\n      <td>0.0</td>\n      <td>0.0</td>\n      <td>0.0</td>\n      <td>0.0</td>\n      <td>0.0</td>\n      <td>0.0</td>\n      <td>0.0</td>\n      <td>0.0</td>\n      <td>0.0</td>\n      <td>0.0</td>\n    </tr>\n    <tr>\n      <th>1</th>\n      <td>0.0</td>\n      <td>6446.0</td>\n      <td>0.0</td>\n      <td>0.0</td>\n      <td>0.0</td>\n      <td>0.0</td>\n      <td>0.0</td>\n      <td>0.0</td>\n      <td>0.0</td>\n      <td>0.0</td>\n      <td>...</td>\n      <td>0.0</td>\n      <td>0.0</td>\n      <td>1.0</td>\n      <td>0.0</td>\n      <td>0.0</td>\n      <td>0.0</td>\n      <td>0.0</td>\n      <td>1.0</td>\n      <td>0.0</td>\n      <td>0.0</td>\n    </tr>\n    <tr>\n      <th>2</th>\n      <td>0.0</td>\n      <td>9325.0</td>\n      <td>0.0</td>\n      <td>0.0</td>\n      <td>0.0</td>\n      <td>0.0</td>\n      <td>0.0</td>\n      <td>0.0</td>\n      <td>0.0</td>\n      <td>0.0</td>\n      <td>...</td>\n      <td>0.0</td>\n      <td>0.0</td>\n      <td>0.0</td>\n      <td>0.0</td>\n      <td>0.0</td>\n      <td>0.0</td>\n      <td>0.0</td>\n      <td>0.0</td>\n      <td>0.0</td>\n      <td>0.0</td>\n    </tr>\n    <tr>\n      <th>3</th>\n      <td>0.0</td>\n      <td>12468.0</td>\n      <td>0.0</td>\n      <td>0.0</td>\n      <td>0.0</td>\n      <td>0.0</td>\n      <td>0.0</td>\n      <td>0.0</td>\n      <td>0.0</td>\n      <td>0.0</td>\n      <td>...</td>\n      <td>0.0</td>\n      <td>0.0</td>\n      <td>0.0</td>\n      <td>0.0</td>\n      <td>0.0</td>\n      <td>0.0</td>\n      <td>0.0</td>\n      <td>0.0</td>\n      <td>0.0</td>\n      <td>0.0</td>\n    </tr>\n    <tr>\n      <th>4</th>\n      <td>0.0</td>\n      <td>12505.0</td>\n      <td>0.0</td>\n      <td>0.0</td>\n      <td>0.0</td>\n      <td>0.0</td>\n      <td>0.0</td>\n      <td>0.0</td>\n      <td>0.0</td>\n      <td>0.0</td>\n      <td>...</td>\n      <td>0.0</td>\n      <td>0.0</td>\n      <td>0.0</td>\n      <td>0.0</td>\n      <td>0.0</td>\n      <td>0.0</td>\n      <td>0.0</td>\n      <td>0.0</td>\n      <td>0.0</td>\n      <td>0.0</td>\n    </tr>\n  </tbody>\n</table>\n<p>5 rows × 37 columns</p>\n</div>"
     },
     "execution_count": 58,
     "metadata": {},
     "output_type": "execute_result"
    }
   ],
   "source": [
    "merged_data = pd.read_csv('processed_data/merged_data.csv')\n",
    "product_catalog = pd.read_csv('processed_data/final_product_catalog.csv')\n",
    "test_data = pd.read_csv('data/test.csv')\n",
    "\n",
    "merged_data.head()"
   ],
   "metadata": {
    "collapsed": false,
    "ExecuteTime": {
     "end_time": "2024-12-20T01:27:34.968470Z",
     "start_time": "2024-12-20T01:27:34.237724Z"
    }
   },
   "id": "af51a57de89425e0",
   "execution_count": 58
  },
  {
   "cell_type": "code",
   "outputs": [
    {
     "name": "stdout",
     "output_type": "stream",
     "text": [
      "896426\n"
     ]
    }
   ],
   "source": [
    "print(len(merged_data))"
   ],
   "metadata": {
    "collapsed": false,
    "ExecuteTime": {
     "end_time": "2024-12-20T01:27:34.971007Z",
     "start_time": "2024-12-20T01:27:34.969375Z"
    }
   },
   "id": "f2e4aa2a1ba524e6",
   "execution_count": 59
  },
  {
   "cell_type": "code",
   "outputs": [],
   "source": [
    "unique_products = merged_data['product_id'].value_counts()"
   ],
   "metadata": {
    "collapsed": false,
    "ExecuteTime": {
     "end_time": "2024-12-20T01:27:35.720073Z",
     "start_time": "2024-12-20T01:27:35.707850Z"
    }
   },
   "id": "3072f53799096c33",
   "execution_count": 60
  },
  {
   "cell_type": "code",
   "outputs": [
    {
     "name": "stdout",
     "output_type": "stream",
     "text": [
      "product_id\n",
      "29657.0    6892\n",
      "18630.0    6246\n",
      "16059.0    3853\n",
      "20131.0    3657\n",
      "11251.0    2923\n",
      "           ... \n",
      "26585.0       1\n",
      "141.0         1\n",
      "21426.0       1\n",
      "23315.0       1\n",
      "23480.0       1\n",
      "Name: count, Length: 31756, dtype: int64\n"
     ]
    }
   ],
   "source": [
    "print(unique_products)"
   ],
   "metadata": {
    "collapsed": false,
    "ExecuteTime": {
     "end_time": "2024-12-20T01:27:36.274868Z",
     "start_time": "2024-12-20T01:27:36.271023Z"
    }
   },
   "id": "e1640718fe889906",
   "execution_count": 61
  },
  {
   "cell_type": "code",
   "outputs": [
    {
     "name": "stdout",
     "output_type": "stream",
     "text": [
      "customer_id\n",
      "23836.0    127\n",
      "39057.0    107\n",
      "18691.0    105\n",
      "24352.0    103\n",
      "35049.0     98\n",
      "          ... \n",
      "10704.0      1\n",
      "41897.0      1\n",
      "44662.0      1\n",
      "24576.0      1\n",
      "9430.0       1\n",
      "Name: count, Length: 46138, dtype: int64\n"
     ]
    }
   ],
   "source": [
    "unique_customers = merged_data['customer_id'].value_counts()\n",
    "print(unique_customers)"
   ],
   "metadata": {
    "collapsed": false,
    "ExecuteTime": {
     "end_time": "2024-12-20T01:27:38.032474Z",
     "start_time": "2024-12-20T01:27:38.015415Z"
    }
   },
   "id": "3f64e4138ca75c44",
   "execution_count": 62
  },
  {
   "cell_type": "code",
   "outputs": [
    {
     "name": "stdout",
     "output_type": "stream",
     "text": [
      "Son 8 hafta içinde alışveriş yapan satır sayısı: 264532\n"
     ]
    }
   ],
   "source": [
    "# Son 8 hafta verilerini al (örneğin son 8 sütunu)\n",
    "last_8_weeks = merged_data.iloc[:, -8:]\n",
    "\n",
    "# 0'dan farklı olan herhangi bir hücreye sahip satırları kontrol et\n",
    "active_rows = (last_8_weeks != 0).any(axis=1)\n",
    "\n",
    "# Filtrelenmiş dataframe\n",
    "filtered_data = merged_data[active_rows]\n",
    "\n",
    "# Sonuçları yazdır\n",
    "print(f\"Son 8 hafta içinde alışveriş yapan satır sayısı: {active_rows.sum()}\")\n"
   ],
   "metadata": {
    "collapsed": false,
    "ExecuteTime": {
     "end_time": "2024-12-20T01:28:58.161112Z",
     "start_time": "2024-12-20T01:28:58.133707Z"
    }
   },
   "id": "dba210b56740304f",
   "execution_count": 67
  },
  {
   "cell_type": "code",
   "outputs": [
    {
     "name": "stdout",
     "output_type": "stream",
     "text": [
      "264532\n"
     ]
    }
   ],
   "source": [
    "print(len(filtered_data))"
   ],
   "metadata": {
    "collapsed": false,
    "ExecuteTime": {
     "end_time": "2024-12-20T01:28:59.109859Z",
     "start_time": "2024-12-20T01:28:59.108111Z"
    }
   },
   "id": "3bf04ab6f7d40cff",
   "execution_count": 68
  },
  {
   "cell_type": "code",
   "outputs": [
    {
     "name": "stdout",
     "output_type": "stream",
     "text": [
      "customer_id              float64\n",
      "product_id               float64\n",
      "2020-06-01/2020-06-07    float64\n",
      "2020-06-08/2020-06-14    float64\n",
      "2020-06-15/2020-06-21    float64\n",
      "2020-06-22/2020-06-28    float64\n",
      "2020-06-29/2020-07-05    float64\n",
      "2020-07-06/2020-07-12    float64\n",
      "2020-07-13/2020-07-19    float64\n",
      "2020-07-20/2020-07-26    float64\n",
      "2020-07-27/2020-08-02    float64\n",
      "2020-08-03/2020-08-09    float64\n",
      "2020-08-10/2020-08-16    float64\n",
      "2020-08-17/2020-08-23    float64\n",
      "2020-08-24/2020-08-30    float64\n",
      "2020-08-31/2020-09-06    float64\n",
      "2020-09-07/2020-09-13    float64\n",
      "2020-09-14/2020-09-20    float64\n",
      "2020-09-21/2020-09-27    float64\n",
      "2020-09-28/2020-10-04    float64\n",
      "2020-10-05/2020-10-11    float64\n",
      "2020-10-12/2020-10-18    float64\n",
      "2020-10-19/2020-10-25    float64\n",
      "2020-10-26/2020-11-01    float64\n",
      "2020-11-02/2020-11-08    float64\n",
      "2020-11-09/2020-11-15    float64\n",
      "2020-11-16/2020-11-22    float64\n",
      "2020-11-23/2020-11-29    float64\n",
      "2020-11-30/2020-12-06    float64\n",
      "2020-12-07/2020-12-13    float64\n",
      "2020-12-14/2020-12-20    float64\n",
      "2020-12-21/2020-12-27    float64\n",
      "2020-12-28/2021-01-03    float64\n",
      "2021-01-04/2021-01-10    float64\n",
      "2021-01-11/2021-01-17    float64\n",
      "2021-01-18/2021-01-24    float64\n",
      "2021-01-25/2021-01-31    float64\n",
      "dtype: object\n"
     ]
    }
   ],
   "source": [
    "print(merged_data.dtypes)\n"
   ],
   "metadata": {
    "collapsed": false,
    "ExecuteTime": {
     "end_time": "2024-12-20T01:29:00.146014Z",
     "start_time": "2024-12-20T01:29:00.143555Z"
    }
   },
   "id": "6c627a77d352aeb5",
   "execution_count": 69
  },
  {
   "cell_type": "code",
   "outputs": [
    {
     "name": "stdout",
     "output_type": "stream",
     "text": [
      "GPU computation successful!\n"
     ]
    }
   ],
   "source": [
    "import tensorflow as tf\n",
    "\n",
    "with tf.device('/GPU:0'):\n",
    "    a = tf.random.normal([1000, 1000])\n",
    "    b = tf.random.normal([1000, 1000])\n",
    "    c = tf.matmul(a, b)\n",
    "    print(\"GPU computation successful!\")\n",
    " "
   ],
   "metadata": {
    "collapsed": false,
    "ExecuteTime": {
     "end_time": "2024-12-20T03:44:49.076261Z",
     "start_time": "2024-12-20T03:44:49.064256Z"
    }
   },
   "id": "9df1bb338de955ab",
   "execution_count": 71
  },
  {
   "cell_type": "code",
   "outputs": [],
   "source": [],
   "metadata": {
    "collapsed": false,
    "ExecuteTime": {
     "end_time": "2024-12-20T03:44:51.942750Z",
     "start_time": "2024-12-20T03:44:51.940649Z"
    }
   },
   "id": "7f1de96eaaabb740",
   "execution_count": 71
  },
  {
   "cell_type": "code",
   "outputs": [
    {
     "name": "stdout",
     "output_type": "stream",
     "text": [
      "TensorFlow version: 2.16.2\n",
      "Num GPUs Available: 1\n",
      "GPU Available: True\n",
      "INPUT DATA LENGTH 179285\n",
      "Encoders SAVED!\n",
      "weeks shape: (8,)\n",
      "weeks_since shape: (8,)\n",
      "weeks shape: (8,)\n",
      "weeks_since shape: (8,)\n",
      "weeks shape: (8,)\n",
      "weeks_since shape: (8,)\n",
      "weeks shape: (8,)\n",
      "weeks_since shape: (8,)\n",
      "weeks shape: (8,)\n",
      "weeks_since shape: (8,)\n",
      "weeks shape: (8,)\n",
      "weeks_since shape: (8,)\n",
      "weeks shape: (8,)\n",
      "weeks_since shape: (8,)\n",
      "weeks shape: (8,)\n",
      "weeks_since shape: (8,)\n",
      "weeks shape: (8,)\n",
      "weeks_since shape: (8,)\n",
      "weeks shape: (8,)\n",
      "weeks_since shape: (8,)\n",
      "weeks shape: (8,)\n",
      "weeks_since shape: (8,)\n",
      "weeks shape: (8,)\n",
      "weeks_since shape: (8,)\n",
      "weeks shape: (8,)\n",
      "weeks_since shape: (8,)\n",
      "weeks shape: (8,)\n",
      "weeks_since shape: (8,)\n",
      "weeks shape: (8,)\n",
      "weeks_since shape: (8,)\n",
      "weeks shape: (8,)\n",
      "weeks_since shape: (8,)\n",
      "weeks shape: (8,)\n",
      "weeks_since shape: (8,)\n",
      "weeks shape: (8,)\n",
      "weeks_since shape: (8,)\n",
      "weeks shape: (8,)\n",
      "weeks_since shape: (8,)\n",
      "weeks shape: (8,)\n",
      "weeks_since shape: (8,)\n",
      "weeks shape: (8,)\n",
      "weeks_since shape: (8,)\n",
      "weeks shape: (8,)\n",
      "weeks_since shape: (8,)\n",
      "weeks shape: (8,)\n",
      "weeks_since shape: (8,)\n",
      "weeks shape: (8,)\n",
      "weeks_since shape: (8,)\n",
      "weeks shape: (8,)\n",
      "weeks_since shape: (8,)\n",
      "weeks shape: (8,)\n",
      "weeks_since shape: (8,)\n",
      "weeks shape: (8,)\n",
      "weeks_since shape: (8,)\n",
      "weeks shape: (8,)\n",
      "weeks_since shape: (8,)\n",
      "weeks shape: (8,)\n",
      "weeks_since shape: (7,)\n"
     ]
    },
    {
     "ename": "ValueError",
     "evalue": "all the input array dimensions except for the concatenation axis must match exactly, but along dimension 0, the array at index 0 has size 8 and the array at index 1 has size 7",
     "output_type": "error",
     "traceback": [
      "\u001B[0;31m---------------------------------------------------------------------------\u001B[0m",
      "\u001B[0;31mValueError\u001B[0m                                Traceback (most recent call last)",
      "Cell \u001B[0;32mIn[72], line 131\u001B[0m\n\u001B[1;32m    129\u001B[0m n_future \u001B[38;5;241m=\u001B[39m \u001B[38;5;241m4\u001B[39m\n\u001B[1;32m    130\u001B[0m merged_data \u001B[38;5;241m=\u001B[39m add_weeks_since_last_purchase(merged_data)\n\u001B[0;32m--> 131\u001B[0m X, y, customers, products\u001B[38;5;241m=\u001B[39m \u001B[43mcreate_sequences\u001B[49m\u001B[43m(\u001B[49m\u001B[43mmerged_data\u001B[49m\u001B[43m,\u001B[49m\u001B[43m \u001B[49m\u001B[43mn_steps\u001B[49m\u001B[43m,\u001B[49m\u001B[43m \u001B[49m\u001B[43mn_future\u001B[49m\u001B[43m)\u001B[49m\n",
      "Cell \u001B[0;32mIn[72], line 51\u001B[0m, in \u001B[0;36mcreate_sequences\u001B[0;34m(data, n_steps, n_future)\u001B[0m\n\u001B[1;32m     48\u001B[0m \u001B[38;5;28mprint\u001B[39m(\u001B[38;5;124mf\u001B[39m\u001B[38;5;124m\"\u001B[39m\u001B[38;5;124mweeks shape: \u001B[39m\u001B[38;5;132;01m{\u001B[39;00mweeks[i:i\u001B[38;5;250m \u001B[39m\u001B[38;5;241m+\u001B[39m\u001B[38;5;250m \u001B[39mn_steps]\u001B[38;5;241m.\u001B[39mshape\u001B[38;5;132;01m}\u001B[39;00m\u001B[38;5;124m\"\u001B[39m)\n\u001B[1;32m     49\u001B[0m \u001B[38;5;28mprint\u001B[39m(\u001B[38;5;124mf\u001B[39m\u001B[38;5;124m\"\u001B[39m\u001B[38;5;124mweeks_since shape: \u001B[39m\u001B[38;5;132;01m{\u001B[39;00mweeks_since[i:i\u001B[38;5;250m \u001B[39m\u001B[38;5;241m+\u001B[39m\u001B[38;5;250m \u001B[39mn_steps]\u001B[38;5;241m.\u001B[39mshape\u001B[38;5;132;01m}\u001B[39;00m\u001B[38;5;124m\"\u001B[39m)\n\u001B[0;32m---> 51\u001B[0m seq_x \u001B[38;5;241m=\u001B[39m \u001B[43mnp\u001B[49m\u001B[38;5;241;43m.\u001B[39;49m\u001B[43mhstack\u001B[49m\u001B[43m(\u001B[49m\u001B[43m[\u001B[49m\n\u001B[1;32m     52\u001B[0m \u001B[43m    \u001B[49m\u001B[43mweeks\u001B[49m\u001B[43m[\u001B[49m\u001B[43mi\u001B[49m\u001B[43m:\u001B[49m\u001B[43mi\u001B[49m\u001B[43m \u001B[49m\u001B[38;5;241;43m+\u001B[39;49m\u001B[43m \u001B[49m\u001B[43mn_steps\u001B[49m\u001B[43m]\u001B[49m\u001B[38;5;241;43m.\u001B[39;49m\u001B[43mreshape\u001B[49m\u001B[43m(\u001B[49m\u001B[38;5;241;43m-\u001B[39;49m\u001B[38;5;241;43m1\u001B[39;49m\u001B[43m,\u001B[49m\u001B[43m \u001B[49m\u001B[38;5;241;43m1\u001B[39;49m\u001B[43m)\u001B[49m\u001B[43m,\u001B[49m\n\u001B[1;32m     53\u001B[0m \u001B[43m    \u001B[49m\u001B[43mweeks_since\u001B[49m\u001B[43m[\u001B[49m\u001B[43mi\u001B[49m\u001B[43m:\u001B[49m\u001B[43mi\u001B[49m\u001B[43m \u001B[49m\u001B[38;5;241;43m+\u001B[39;49m\u001B[43m \u001B[49m\u001B[43mn_steps\u001B[49m\u001B[43m]\u001B[49m\u001B[38;5;241;43m.\u001B[39;49m\u001B[43mreshape\u001B[49m\u001B[43m(\u001B[49m\u001B[38;5;241;43m-\u001B[39;49m\u001B[38;5;241;43m1\u001B[39;49m\u001B[43m,\u001B[49m\u001B[43m \u001B[49m\u001B[38;5;241;43m1\u001B[39;49m\u001B[43m)\u001B[49m\n\u001B[1;32m     54\u001B[0m \u001B[43m\u001B[49m\u001B[43m]\u001B[49m\u001B[43m)\u001B[49m\n\u001B[1;32m     55\u001B[0m \u001B[38;5;66;03m# Gelecek haftaların hedef değerini hesapla\u001B[39;00m\n\u001B[1;32m     56\u001B[0m future_weeks \u001B[38;5;241m=\u001B[39m weeks[i \u001B[38;5;241m+\u001B[39m n_steps:i \u001B[38;5;241m+\u001B[39m n_steps \u001B[38;5;241m+\u001B[39m n_future]\n",
      "File \u001B[0;32m~/PycharmProjects/LSTMV502/.venv/lib/python3.10/site-packages/numpy/core/shape_base.py:359\u001B[0m, in \u001B[0;36mhstack\u001B[0;34m(tup, dtype, casting)\u001B[0m\n\u001B[1;32m    357\u001B[0m     \u001B[38;5;28;01mreturn\u001B[39;00m _nx\u001B[38;5;241m.\u001B[39mconcatenate(arrs, \u001B[38;5;241m0\u001B[39m, dtype\u001B[38;5;241m=\u001B[39mdtype, casting\u001B[38;5;241m=\u001B[39mcasting)\n\u001B[1;32m    358\u001B[0m \u001B[38;5;28;01melse\u001B[39;00m:\n\u001B[0;32m--> 359\u001B[0m     \u001B[38;5;28;01mreturn\u001B[39;00m \u001B[43m_nx\u001B[49m\u001B[38;5;241;43m.\u001B[39;49m\u001B[43mconcatenate\u001B[49m\u001B[43m(\u001B[49m\u001B[43marrs\u001B[49m\u001B[43m,\u001B[49m\u001B[43m \u001B[49m\u001B[38;5;241;43m1\u001B[39;49m\u001B[43m,\u001B[49m\u001B[43m \u001B[49m\u001B[43mdtype\u001B[49m\u001B[38;5;241;43m=\u001B[39;49m\u001B[43mdtype\u001B[49m\u001B[43m,\u001B[49m\u001B[43m \u001B[49m\u001B[43mcasting\u001B[49m\u001B[38;5;241;43m=\u001B[39;49m\u001B[43mcasting\u001B[49m\u001B[43m)\u001B[49m\n",
      "\u001B[0;31mValueError\u001B[0m: all the input array dimensions except for the concatenation axis must match exactly, but along dimension 0, the array at index 0 has size 8 and the array at index 1 has size 7"
     ]
    }
   ],
   "source": [
    "import numpy as np\n",
    "import pandas as pd\n",
    "from sklearn.preprocessing import LabelEncoder, MinMaxScaler\n",
    "import joblib\n",
    "import matplotlib\n",
    "matplotlib.use('TkAgg')  # Alternatif olarak 'Agg', 'Qt5Agg', 'MacOSX' deneyebilirsiniz.\n",
    "\n",
    "\n",
    "def create_sequences(data, n_steps, n_future):\n",
    "    X, y, customers, products = [], [], [], []\n",
    "\n",
    "    # Haftalık satın alma sütunları ve yeni eklenen özellik sütunlarını belirleyin\n",
    "    week_columns = [col for col in data.columns if '/' in col]\n",
    "    weeks_since_columns = [col for col in data.columns if 'weeks_since_last_purchase' in col]\n",
    "\n",
    "    for index in data.index:\n",
    "        # Satın alma verileri ve yeni özellikler\n",
    "        weeks = data.loc[index, week_columns].values\n",
    "        weeks_since = data.loc[index, weeks_since_columns].values\n",
    "        customer_id = data.loc[index, \"customer_id\"]\n",
    "        product_id = data.loc[index, \"product_id\"]\n",
    "\n",
    "        for i in range(len(weeks) - n_steps):\n",
    "            # Satın alma verisi ve bağlamsal özellikleri birleştir\n",
    "            print(f\"weeks shape: {weeks[i:i + n_steps].shape}\")\n",
    "            print(f\"weeks_since shape: {weeks_since[i:i + n_steps].shape}\")\n",
    "\n",
    "            seq_x = np.hstack([\n",
    "                weeks[i:i + n_steps].reshape(-1, 1),\n",
    "                weeks_since[i:i + n_steps].reshape(-1, 1)\n",
    "            ])\n",
    "            # Gelecek haftaların hedef değerini hesapla\n",
    "            future_weeks = weeks[i + n_steps:i + n_steps + n_future]\n",
    "            target_week = calculate_target(future_weeks)\n",
    "\n",
    "            X.append(seq_x)\n",
    "            y.append(target_week)\n",
    "            customers.append(customer_id)\n",
    "            products.append(product_id)\n",
    "\n",
    "    return np.array(X), np.array(y), np.array(customers), np.array(products)\n",
    "\n",
    "\n",
    "\n",
    "def add_weeks_since_last_purchase(data):\n",
    "    # Haftalık sütunları tespit et\n",
    "    week_columns = [col for col in data.columns if '/' in col]\n",
    "\n",
    "    # Yeni özellik için bir DataFrame başlat\n",
    "    weeks_since_last_purchase = pd.DataFrame(0, index=data.index, columns=week_columns)\n",
    "\n",
    "    for index in data.index:\n",
    "        last_purchase_week = None  # Son satın alım haftasını takip etmek için\n",
    "\n",
    "        for i, week in enumerate(week_columns):\n",
    "            if data.loc[index, week] > 0:  # Pozitif bir değer varsa satın alım yapılmış\n",
    "                last_purchase_week = i  # Haftayı güncelle\n",
    "            if last_purchase_week is not None:\n",
    "                weeks_since_last_purchase.loc[index, week] = i - last_purchase_week\n",
    "\n",
    "    # Yeni özellikleri orijinal veri setine ekle\n",
    "    for week in week_columns:\n",
    "        data[f'weeks_since_last_purchase_{week}'] = weeks_since_last_purchase[week]\n",
    "\n",
    "    return data\n",
    "\n",
    "\n",
    "def calculate_target(future_weeks):\n",
    "    if np.any(future_weeks):\n",
    "        return np.argmax(future_weeks > 0) + 1\n",
    "    return 0\n",
    "\n",
    "\n",
    "def scale_and_reshape(scaler, X, num_steps, num_features):\n",
    "    X_reshaped = X.reshape(-1, num_features)\n",
    "    X_scaled = scaler.transform(X_reshaped).reshape(-1, num_steps, num_features)\n",
    "    return X_scaled\n",
    "\n",
    "def calculate_output_dim(input_dim):\n",
    "    sqrt_dim = int(np.sqrt(input_dim))\n",
    "    # En yakın 2'nin katına yuvarla\n",
    "    nearest_power_of_two = 2**int(np.ceil(np.log2(sqrt_dim)))\n",
    "    return nearest_power_of_two\n",
    "\n",
    "\n",
    "merged_data = pd.read_csv('processed_data/merged_data.csv')\n",
    "\n",
    "size10 = int(0.2 * len(merged_data))\n",
    "merged_data = merged_data[:size10]\n",
    "\n",
    "print(\"INPUT DATA LENGTH\", len(merged_data))\n",
    "\n",
    "# Veri ve etiketleme\n",
    "customer_encoder = LabelEncoder()\n",
    "product_encoder = LabelEncoder()\n",
    "\n",
    "merged_data['customer_id'] = customer_encoder.fit_transform(merged_data['customer_id'])\n",
    "merged_data['product_id'] = product_encoder.fit_transform(merged_data['product_id'])\n",
    "\n",
    "\n",
    "joblib.dump(customer_encoder, \"encoders/customer_encoder.pkl\")\n",
    "joblib.dump(product_encoder, \"encoders/product_encoder.pkl\")\n",
    "print(\"Encoders SAVED!\")\n",
    "\n",
    "n_steps = 8\n",
    "n_future = 4\n",
    "merged_data = add_weeks_since_last_purchase(merged_data)\n",
    "X, y, customers, products= create_sequences(merged_data, n_steps, n_future)"
   ],
   "metadata": {
    "collapsed": false,
    "ExecuteTime": {
     "end_time": "2024-12-21T10:02:15.210101Z",
     "start_time": "2024-12-21T10:00:52.823223Z"
    }
   },
   "id": "8f65548bcaac2b47",
   "execution_count": 72
  },
  {
   "cell_type": "code",
   "outputs": [
    {
     "data": {
      "text/plain": "   customer_id  product_id  2020-06-01/2020-06-07  2020-06-08/2020-06-14  \\\n0            0         866                    0.0                    0.0   \n1            0        3842                    0.0                    0.0   \n2            0        5583                    0.0                    0.0   \n3            0        7476                    0.0                    0.0   \n4            0        7503                    0.0                    0.0   \n\n   2020-06-15/2020-06-21  2020-06-22/2020-06-28  2020-06-29/2020-07-05  \\\n0                    0.0                    0.0                    0.0   \n1                    0.0                    0.0                    0.0   \n2                    0.0                    0.0                    0.0   \n3                    0.0                    0.0                    0.0   \n4                    0.0                    0.0                    0.0   \n\n   2020-07-06/2020-07-12  2020-07-13/2020-07-19  2020-07-20/2020-07-26  ...  \\\n0                    0.0                    0.0                    0.0  ...   \n1                    0.0                    0.0                    0.0  ...   \n2                    0.0                    0.0                    0.0  ...   \n3                    0.0                    0.0                    0.0  ...   \n4                    0.0                    0.0                    0.0  ...   \n\n   weeks_since_last_purchase_2020-11-23/2020-11-29  \\\n0                                               12   \n1                                                0   \n2                                                1   \n3                                               16   \n4                                               14   \n\n   weeks_since_last_purchase_2020-11-30/2020-12-06  \\\n0                                               13   \n1                                                0   \n2                                                2   \n3                                               17   \n4                                               15   \n\n   weeks_since_last_purchase_2020-12-07/2020-12-13  \\\n0                                               14   \n1                                                0   \n2                                                3   \n3                                               18   \n4                                               16   \n\n   weeks_since_last_purchase_2020-12-14/2020-12-20  \\\n0                                               15   \n1                                                1   \n2                                                4   \n3                                               19   \n4                                               17   \n\n   weeks_since_last_purchase_2020-12-21/2020-12-27  \\\n0                                               16   \n1                                                2   \n2                                                5   \n3                                               20   \n4                                               18   \n\n   weeks_since_last_purchase_2020-12-28/2021-01-03  \\\n0                                               17   \n1                                                3   \n2                                                6   \n3                                               21   \n4                                               19   \n\n   weeks_since_last_purchase_2021-01-04/2021-01-10  \\\n0                                               18   \n1                                                4   \n2                                                7   \n3                                               22   \n4                                               20   \n\n   weeks_since_last_purchase_2021-01-11/2021-01-17  \\\n0                                               19   \n1                                                0   \n2                                                8   \n3                                               23   \n4                                               21   \n\n   weeks_since_last_purchase_2021-01-18/2021-01-24  \\\n0                                               20   \n1                                                1   \n2                                                9   \n3                                               24   \n4                                               22   \n\n   weeks_since_last_purchase_2021-01-25/2021-01-31  \n0                                               21  \n1                                                2  \n2                                               10  \n3                                               25  \n4                                               23  \n\n[5 rows x 72 columns]",
      "text/html": "<div>\n<style scoped>\n    .dataframe tbody tr th:only-of-type {\n        vertical-align: middle;\n    }\n\n    .dataframe tbody tr th {\n        vertical-align: top;\n    }\n\n    .dataframe thead th {\n        text-align: right;\n    }\n</style>\n<table border=\"1\" class=\"dataframe\">\n  <thead>\n    <tr style=\"text-align: right;\">\n      <th></th>\n      <th>customer_id</th>\n      <th>product_id</th>\n      <th>2020-06-01/2020-06-07</th>\n      <th>2020-06-08/2020-06-14</th>\n      <th>2020-06-15/2020-06-21</th>\n      <th>2020-06-22/2020-06-28</th>\n      <th>2020-06-29/2020-07-05</th>\n      <th>2020-07-06/2020-07-12</th>\n      <th>2020-07-13/2020-07-19</th>\n      <th>2020-07-20/2020-07-26</th>\n      <th>...</th>\n      <th>weeks_since_last_purchase_2020-11-23/2020-11-29</th>\n      <th>weeks_since_last_purchase_2020-11-30/2020-12-06</th>\n      <th>weeks_since_last_purchase_2020-12-07/2020-12-13</th>\n      <th>weeks_since_last_purchase_2020-12-14/2020-12-20</th>\n      <th>weeks_since_last_purchase_2020-12-21/2020-12-27</th>\n      <th>weeks_since_last_purchase_2020-12-28/2021-01-03</th>\n      <th>weeks_since_last_purchase_2021-01-04/2021-01-10</th>\n      <th>weeks_since_last_purchase_2021-01-11/2021-01-17</th>\n      <th>weeks_since_last_purchase_2021-01-18/2021-01-24</th>\n      <th>weeks_since_last_purchase_2021-01-25/2021-01-31</th>\n    </tr>\n  </thead>\n  <tbody>\n    <tr>\n      <th>0</th>\n      <td>0</td>\n      <td>866</td>\n      <td>0.0</td>\n      <td>0.0</td>\n      <td>0.0</td>\n      <td>0.0</td>\n      <td>0.0</td>\n      <td>0.0</td>\n      <td>0.0</td>\n      <td>0.0</td>\n      <td>...</td>\n      <td>12</td>\n      <td>13</td>\n      <td>14</td>\n      <td>15</td>\n      <td>16</td>\n      <td>17</td>\n      <td>18</td>\n      <td>19</td>\n      <td>20</td>\n      <td>21</td>\n    </tr>\n    <tr>\n      <th>1</th>\n      <td>0</td>\n      <td>3842</td>\n      <td>0.0</td>\n      <td>0.0</td>\n      <td>0.0</td>\n      <td>0.0</td>\n      <td>0.0</td>\n      <td>0.0</td>\n      <td>0.0</td>\n      <td>0.0</td>\n      <td>...</td>\n      <td>0</td>\n      <td>0</td>\n      <td>0</td>\n      <td>1</td>\n      <td>2</td>\n      <td>3</td>\n      <td>4</td>\n      <td>0</td>\n      <td>1</td>\n      <td>2</td>\n    </tr>\n    <tr>\n      <th>2</th>\n      <td>0</td>\n      <td>5583</td>\n      <td>0.0</td>\n      <td>0.0</td>\n      <td>0.0</td>\n      <td>0.0</td>\n      <td>0.0</td>\n      <td>0.0</td>\n      <td>0.0</td>\n      <td>0.0</td>\n      <td>...</td>\n      <td>1</td>\n      <td>2</td>\n      <td>3</td>\n      <td>4</td>\n      <td>5</td>\n      <td>6</td>\n      <td>7</td>\n      <td>8</td>\n      <td>9</td>\n      <td>10</td>\n    </tr>\n    <tr>\n      <th>3</th>\n      <td>0</td>\n      <td>7476</td>\n      <td>0.0</td>\n      <td>0.0</td>\n      <td>0.0</td>\n      <td>0.0</td>\n      <td>0.0</td>\n      <td>0.0</td>\n      <td>0.0</td>\n      <td>0.0</td>\n      <td>...</td>\n      <td>16</td>\n      <td>17</td>\n      <td>18</td>\n      <td>19</td>\n      <td>20</td>\n      <td>21</td>\n      <td>22</td>\n      <td>23</td>\n      <td>24</td>\n      <td>25</td>\n    </tr>\n    <tr>\n      <th>4</th>\n      <td>0</td>\n      <td>7503</td>\n      <td>0.0</td>\n      <td>0.0</td>\n      <td>0.0</td>\n      <td>0.0</td>\n      <td>0.0</td>\n      <td>0.0</td>\n      <td>0.0</td>\n      <td>0.0</td>\n      <td>...</td>\n      <td>14</td>\n      <td>15</td>\n      <td>16</td>\n      <td>17</td>\n      <td>18</td>\n      <td>19</td>\n      <td>20</td>\n      <td>21</td>\n      <td>22</td>\n      <td>23</td>\n    </tr>\n  </tbody>\n</table>\n<p>5 rows × 72 columns</p>\n</div>"
     },
     "execution_count": 74,
     "metadata": {},
     "output_type": "execute_result"
    }
   ],
   "source": [
    "merged_data.head()"
   ],
   "metadata": {
    "collapsed": false,
    "ExecuteTime": {
     "end_time": "2024-12-21T10:03:34.760946Z",
     "start_time": "2024-12-21T10:03:34.747130Z"
    }
   },
   "id": "eb641cbdd80b30c6",
   "execution_count": 74
  },
  {
   "cell_type": "code",
   "outputs": [],
   "source": [],
   "metadata": {
    "collapsed": false
   },
   "id": "12d4b464b25e58ac"
  }
 ],
 "metadata": {
  "kernelspec": {
   "display_name": "Python 3",
   "language": "python",
   "name": "python3"
  },
  "language_info": {
   "codemirror_mode": {
    "name": "ipython",
    "version": 2
   },
   "file_extension": ".py",
   "mimetype": "text/x-python",
   "name": "python",
   "nbconvert_exporter": "python",
   "pygments_lexer": "ipython2",
   "version": "2.7.6"
  }
 },
 "nbformat": 4,
 "nbformat_minor": 5
}
