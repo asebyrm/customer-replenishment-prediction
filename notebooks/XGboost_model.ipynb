{
 "cells": [
  {
   "cell_type": "code",
   "id": "initial_id",
   "metadata": {
    "collapsed": true,
    "ExecuteTime": {
     "end_time": "2025-01-06T20:18:37.106736Z",
     "start_time": "2025-01-06T20:18:37.102479Z"
    }
   },
   "source": [
    "import numpy as np\n",
    "import pandas as pd\n",
    "from sklearn.model_selection import train_test_split\n",
    "from sklearn.ensemble import RandomForestClassifier\n",
    "from xgboost import XGBClassifier\n",
    "from sklearn.metrics import classification_report\n",
    "from sklearn.model_selection import train_test_split\n",
    "import joblib  # Modelleri kaydetmek için"
   ],
   "outputs": [],
   "execution_count": 9
  },
  {
   "metadata": {
    "ExecuteTime": {
     "end_time": "2025-01-06T20:18:37.752472Z",
     "start_time": "2025-01-06T20:18:37.107734Z"
    }
   },
   "cell_type": "code",
   "source": [
    "# Eğitilmiş veri setini yükle\n",
    "print(\"Loading train set...\")\n",
    "train_df = pd.read_csv('../processed_data/preprocessed_train_set.csv')\n",
    "\n",
    "# 2. Veriyi eğitim ve doğrulama setlerine ayırma\n",
    "X = train_df.drop(columns=['prediction'])\n",
    "y = train_df['prediction']\n",
    "\n",
    "X_train, X_val, y_train, y_val = train_test_split(X, y, test_size=0.2, random_state=42, stratify=y)\n",
    "\n",
    "# 3. Birinci Model: 0 mı, değil mi? (Binary Classification)\n",
    "print(\"Training Binary Classification Model (0 vs. Not 0)...\")\n",
    "y_train_binary = (y_train == 0).astype(int)\n",
    "y_val_binary = (y_val == 0).astype(int)\n",
    "\n",
    "model_1 = XGBClassifier(scale_pos_weight=(1 / y_train_binary.mean()), random_state=42)\n",
    "model_1.fit(X_train, y_train_binary)\n",
    "\n",
    "# Performans değerlendirme\n",
    "pred_1_val = model_1.predict(X_val)\n",
    "print(\"\\nBinary Classification Performance (Validation Set):\")\n",
    "print(classification_report(y_val_binary, pred_1_val))\n",
    "\n",
    "# 4. İkinci Model: 1, 2, 3, 4 sınıfları için (Multi-Class Classification)\n",
    "print(\"Training Multi-Class Classification Model (1, 2, 3, 4)...\")\n",
    "X_train_second = X_train[y_train != 0]\n",
    "y_train_second = y_train[y_train != 0]\n",
    "X_val_second = X_val[pred_1_val == 0]  # Birinci modelin \"0 değil\" dediği veriler\n",
    "y_val_second = y_val[pred_1_val == 0]\n",
    "\n",
    "# En iyi parametrelerle RandomForestClassifier tanımı\n",
    "best_params = {\n",
    "    'bootstrap': True,\n",
    "    'max_depth': None,\n",
    "    'min_samples_leaf': 4,\n",
    "    'min_samples_split': 10,\n",
    "    'n_estimators': 50\n",
    "}\n",
    "\n",
    "model_2 = RandomForestClassifier(**best_params, random_state=42)\n",
    "model_2.fit(X_train_second, y_train_second)\n",
    "\n",
    "# Performans değerlendirme\n",
    "pred_2_val = model_2.predict(X_val_second)\n",
    "print(\"\\nMulti-Class Classification Performance (Validation Set):\")\n",
    "print(classification_report(y_val_second, pred_2_val))\n",
    "\n",
    "# 5. Modelleri kaydetme\n",
    "print(\"Saving models...\")\n",
    "joblib.dump(model_1, '../models/binary_model.pkl')\n",
    "joblib.dump(model_2, '../models/multi_class_model.pkl')\n",
    "print(\"Models saved successfully!\")\n",
    "\n",
    "# 6. Birleştirilmiş Tahminler (Validation Set)\n",
    "print(\"\\nEvaluating Combined Model...\")\n",
    "final_predictions = []\n",
    "for i in range(len(X_val)):\n",
    "    if pred_1_val[i] == 1:  # Birinci model \"0\" dediyse\n",
    "        final_predictions.append(0)\n",
    "    else:  # İkinci model tahminine geç\n",
    "        final_predictions.append(pred_2_val[0])\n",
    "        pred_2_val = np.delete(pred_2_val, 0)  # Tahmin edilen elemanı sil\n",
    "\n",
    "final_predictions = np.array(final_predictions)\n",
    "\n",
    "# Birleştirilmiş performans raporu\n",
    "print(\"\\nCombined Model Performance (Validation Set):\")\n",
    "print(classification_report(y_val, final_predictions))\n",
    "\n"
   ],
   "id": "a5b291f2b1f7e10a",
   "outputs": [
    {
     "name": "stdout",
     "output_type": "stream",
     "text": [
      "Loading train set...\n",
      "Training Binary Classification Model (0 vs. Not 0)...\n",
      "\n",
      "Binary Classification Performance (Validation Set):\n",
      "              precision    recall  f1-score   support\n",
      "\n",
      "           0       0.84      0.70      0.76      3360\n",
      "           1       0.93      0.97      0.95     14456\n",
      "\n",
      "    accuracy                           0.92     17816\n",
      "   macro avg       0.89      0.83      0.86     17816\n",
      "weighted avg       0.91      0.92      0.91     17816\n",
      "\n",
      "Training Multi-Class Classification Model (1, 2, 3, 4)...\n",
      "\n",
      "Multi-Class Classification Performance (Validation Set):\n",
      "              precision    recall  f1-score   support\n",
      "\n",
      "           0       0.00      0.00      0.00       452\n",
      "           1       0.22      0.20      0.21       395\n",
      "           2       0.20      0.21      0.21       504\n",
      "           3       0.17      0.14      0.15       519\n",
      "           4       0.41      0.66      0.50       929\n",
      "\n",
      "    accuracy                           0.31      2799\n",
      "   macro avg       0.20      0.24      0.21      2799\n",
      "weighted avg       0.24      0.31      0.26      2799\n",
      "\n",
      "Saving models...\n",
      "Models saved successfully!\n",
      "\n",
      "Evaluating Combined Model...\n",
      "\n",
      "Combined Model Performance (Validation Set):\n",
      "              precision    recall  f1-score   support\n",
      "\n",
      "           0       0.93      0.97      0.95     14456\n",
      "           1       0.22      0.11      0.15       727\n",
      "           2       0.20      0.14      0.16       771\n",
      "           3       0.17      0.10      0.13       718\n",
      "           4       0.41      0.54      0.46      1144\n",
      "\n",
      "    accuracy                           0.83     17816\n",
      "   macro avg       0.39      0.37      0.37     17816\n",
      "weighted avg       0.81      0.83      0.82     17816\n",
      "\n"
     ]
    },
    {
     "name": "stderr",
     "output_type": "stream",
     "text": [
      "C:\\Users\\Emre\\PycharmProjects\\YZV311-Project\\.venv\\Lib\\site-packages\\sklearn\\metrics\\_classification.py:1565: UndefinedMetricWarning: Precision is ill-defined and being set to 0.0 in labels with no predicted samples. Use `zero_division` parameter to control this behavior.\n",
      "  _warn_prf(average, modifier, f\"{metric.capitalize()} is\", len(result))\n",
      "C:\\Users\\Emre\\PycharmProjects\\YZV311-Project\\.venv\\Lib\\site-packages\\sklearn\\metrics\\_classification.py:1565: UndefinedMetricWarning: Precision is ill-defined and being set to 0.0 in labels with no predicted samples. Use `zero_division` parameter to control this behavior.\n",
      "  _warn_prf(average, modifier, f\"{metric.capitalize()} is\", len(result))\n",
      "C:\\Users\\Emre\\PycharmProjects\\YZV311-Project\\.venv\\Lib\\site-packages\\sklearn\\metrics\\_classification.py:1565: UndefinedMetricWarning: Precision is ill-defined and being set to 0.0 in labels with no predicted samples. Use `zero_division` parameter to control this behavior.\n",
      "  _warn_prf(average, modifier, f\"{metric.capitalize()} is\", len(result))\n"
     ]
    }
   ],
   "execution_count": 10
  },
  {
   "metadata": {
    "ExecuteTime": {
     "end_time": "2025-01-06T20:18:37.756471Z",
     "start_time": "2025-01-06T20:18:37.753472Z"
    }
   },
   "cell_type": "code",
   "source": "",
   "id": "4462adae6074b41a",
   "outputs": [],
   "execution_count": 10
  }
 ],
 "metadata": {
  "kernelspec": {
   "display_name": "Python 3",
   "language": "python",
   "name": "python3"
  },
  "language_info": {
   "codemirror_mode": {
    "name": "ipython",
    "version": 2
   },
   "file_extension": ".py",
   "mimetype": "text/x-python",
   "name": "python",
   "nbconvert_exporter": "python",
   "pygments_lexer": "ipython2",
   "version": "2.7.6"
  }
 },
 "nbformat": 4,
 "nbformat_minor": 5
}
