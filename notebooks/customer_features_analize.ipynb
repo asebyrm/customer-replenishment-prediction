{
 "cells": [
  {
   "cell_type": "code",
   "execution_count": 2,
   "id": "initial_id",
   "metadata": {
    "collapsed": true,
    "ExecuteTime": {
     "end_time": "2024-12-28T14:47:39.546223Z",
     "start_time": "2024-12-28T14:47:39.510832Z"
    }
   },
   "outputs": [],
   "source": [
    "import pandas as pd\n",
    "\n",
    "customer_features = pd.read_csv('../processed_data/customer_features.csv')"
   ]
  },
  {
   "cell_type": "code",
   "outputs": [
    {
     "data": {
      "text/plain": "   customer_id  total_purchases  unique_products  purchase_days  avg_quantity  \\\n0            0               20               13             10      1.111111   \n1            1               18               14             10      1.200000   \n2            2               25               18             10      1.190476   \n3            3               54               33             16      1.350000   \n4            4               39               22             13      1.695652   \n\n   frequent_product              parent_category_id  \n0             20664   [3898, 600, 1682, 1062, 1623]  \n1             23055    [3898, 370, 1178, 1543, 857]  \n2             23476   [3898, 298, 1841, 1065, 1340]  \n3             18559    [3898, 458, 3189, 1739, 257]  \n4             24047  [3898, 2346, 1072, 2915, 2006]  ",
      "text/html": "<div>\n<style scoped>\n    .dataframe tbody tr th:only-of-type {\n        vertical-align: middle;\n    }\n\n    .dataframe tbody tr th {\n        vertical-align: top;\n    }\n\n    .dataframe thead th {\n        text-align: right;\n    }\n</style>\n<table border=\"1\" class=\"dataframe\">\n  <thead>\n    <tr style=\"text-align: right;\">\n      <th></th>\n      <th>customer_id</th>\n      <th>total_purchases</th>\n      <th>unique_products</th>\n      <th>purchase_days</th>\n      <th>avg_quantity</th>\n      <th>frequent_product</th>\n      <th>parent_category_id</th>\n    </tr>\n  </thead>\n  <tbody>\n    <tr>\n      <th>0</th>\n      <td>0</td>\n      <td>20</td>\n      <td>13</td>\n      <td>10</td>\n      <td>1.111111</td>\n      <td>20664</td>\n      <td>[3898, 600, 1682, 1062, 1623]</td>\n    </tr>\n    <tr>\n      <th>1</th>\n      <td>1</td>\n      <td>18</td>\n      <td>14</td>\n      <td>10</td>\n      <td>1.200000</td>\n      <td>23055</td>\n      <td>[3898, 370, 1178, 1543, 857]</td>\n    </tr>\n    <tr>\n      <th>2</th>\n      <td>2</td>\n      <td>25</td>\n      <td>18</td>\n      <td>10</td>\n      <td>1.190476</td>\n      <td>23476</td>\n      <td>[3898, 298, 1841, 1065, 1340]</td>\n    </tr>\n    <tr>\n      <th>3</th>\n      <td>3</td>\n      <td>54</td>\n      <td>33</td>\n      <td>16</td>\n      <td>1.350000</td>\n      <td>18559</td>\n      <td>[3898, 458, 3189, 1739, 257]</td>\n    </tr>\n    <tr>\n      <th>4</th>\n      <td>4</td>\n      <td>39</td>\n      <td>22</td>\n      <td>13</td>\n      <td>1.695652</td>\n      <td>24047</td>\n      <td>[3898, 2346, 1072, 2915, 2006]</td>\n    </tr>\n  </tbody>\n</table>\n</div>"
     },
     "execution_count": 4,
     "metadata": {},
     "output_type": "execute_result"
    }
   ],
   "source": [
    "customer_features.head()"
   ],
   "metadata": {
    "collapsed": false,
    "ExecuteTime": {
     "end_time": "2024-12-28T14:48:39.732868Z",
     "start_time": "2024-12-28T14:48:39.725301Z"
    }
   },
   "id": "14688092c8308bea",
   "execution_count": 4
  },
  {
   "cell_type": "code",
   "outputs": [
    {
     "data": {
      "text/plain": "        customer_id  total_purchases  unique_products  purchase_days  \\\ncount  46138.000000     46138.000000     46138.000000   46138.000000   \nmean   23068.500000        32.508865        19.429234       7.790281   \nstd    13319.037697        23.435234        11.498312       4.145716   \nmin        0.000000         1.000000         1.000000       1.000000   \n25%    11534.250000        17.000000        11.000000       5.000000   \n50%    23068.500000        27.000000        17.000000       7.000000   \n75%    34602.750000        42.000000        25.000000      10.000000   \nmax    46137.000000       696.000000       127.000000      70.000000   \n\n       avg_quantity  frequent_product  \ncount  46138.000000      46138.000000  \nmean       1.449507      16701.285361  \nstd        0.709768       9511.142324  \nmin        1.000000          1.000000  \n25%        1.151515       8445.000000  \n50%        1.300000      17363.000000  \n75%        1.545455      24815.000000  \nmax       40.000000      32769.000000  ",
      "text/html": "<div>\n<style scoped>\n    .dataframe tbody tr th:only-of-type {\n        vertical-align: middle;\n    }\n\n    .dataframe tbody tr th {\n        vertical-align: top;\n    }\n\n    .dataframe thead th {\n        text-align: right;\n    }\n</style>\n<table border=\"1\" class=\"dataframe\">\n  <thead>\n    <tr style=\"text-align: right;\">\n      <th></th>\n      <th>customer_id</th>\n      <th>total_purchases</th>\n      <th>unique_products</th>\n      <th>purchase_days</th>\n      <th>avg_quantity</th>\n      <th>frequent_product</th>\n    </tr>\n  </thead>\n  <tbody>\n    <tr>\n      <th>count</th>\n      <td>46138.000000</td>\n      <td>46138.000000</td>\n      <td>46138.000000</td>\n      <td>46138.000000</td>\n      <td>46138.000000</td>\n      <td>46138.000000</td>\n    </tr>\n    <tr>\n      <th>mean</th>\n      <td>23068.500000</td>\n      <td>32.508865</td>\n      <td>19.429234</td>\n      <td>7.790281</td>\n      <td>1.449507</td>\n      <td>16701.285361</td>\n    </tr>\n    <tr>\n      <th>std</th>\n      <td>13319.037697</td>\n      <td>23.435234</td>\n      <td>11.498312</td>\n      <td>4.145716</td>\n      <td>0.709768</td>\n      <td>9511.142324</td>\n    </tr>\n    <tr>\n      <th>min</th>\n      <td>0.000000</td>\n      <td>1.000000</td>\n      <td>1.000000</td>\n      <td>1.000000</td>\n      <td>1.000000</td>\n      <td>1.000000</td>\n    </tr>\n    <tr>\n      <th>25%</th>\n      <td>11534.250000</td>\n      <td>17.000000</td>\n      <td>11.000000</td>\n      <td>5.000000</td>\n      <td>1.151515</td>\n      <td>8445.000000</td>\n    </tr>\n    <tr>\n      <th>50%</th>\n      <td>23068.500000</td>\n      <td>27.000000</td>\n      <td>17.000000</td>\n      <td>7.000000</td>\n      <td>1.300000</td>\n      <td>17363.000000</td>\n    </tr>\n    <tr>\n      <th>75%</th>\n      <td>34602.750000</td>\n      <td>42.000000</td>\n      <td>25.000000</td>\n      <td>10.000000</td>\n      <td>1.545455</td>\n      <td>24815.000000</td>\n    </tr>\n    <tr>\n      <th>max</th>\n      <td>46137.000000</td>\n      <td>696.000000</td>\n      <td>127.000000</td>\n      <td>70.000000</td>\n      <td>40.000000</td>\n      <td>32769.000000</td>\n    </tr>\n  </tbody>\n</table>\n</div>"
     },
     "execution_count": 3,
     "metadata": {},
     "output_type": "execute_result"
    }
   ],
   "source": [
    "customer_features.describe()"
   ],
   "metadata": {
    "collapsed": false,
    "ExecuteTime": {
     "end_time": "2024-12-28T14:47:43.543923Z",
     "start_time": "2024-12-28T14:47:43.526311Z"
    }
   },
   "id": "c90e911df7bd5f9d",
   "execution_count": 3
  },
  {
   "cell_type": "code",
   "outputs": [],
   "source": [],
   "metadata": {
    "collapsed": false
   },
   "id": "91be0455976d2e67"
  }
 ],
 "metadata": {
  "kernelspec": {
   "display_name": "Python 3",
   "language": "python",
   "name": "python3"
  },
  "language_info": {
   "codemirror_mode": {
    "name": "ipython",
    "version": 2
   },
   "file_extension": ".py",
   "mimetype": "text/x-python",
   "name": "python",
   "nbconvert_exporter": "python",
   "pygments_lexer": "ipython2",
   "version": "2.7.6"
  }
 },
 "nbformat": 4,
 "nbformat_minor": 5
}
