{
 "cells": [
  {
   "cell_type": "code",
   "execution_count": 37,
   "id": "initial_id",
   "metadata": {
    "collapsed": true,
    "ExecuteTime": {
     "end_time": "2024-12-22T03:05:45.079887Z",
     "start_time": "2024-12-22T03:05:42.322596Z"
    }
   },
   "outputs": [],
   "source": [
    "import pandas as pd\n",
    "from tensorflow.keras.models import Model\n",
    "from tensorflow.keras.layers import Input, Embedding, Flatten, Concatenate, Dense\n",
    "\n",
    "data = pd.read_csv('/Users/asebyrm/PycharmProjects/LSTMV502/processed_data/final_product_catalog.csv')\n",
    "\n",
    "product_catalog = pd.read_csv(\"/Users/asebyrm/PycharmProjects/LSTMV502/data/product_catalog.csv\")\n",
    "product_category_map = pd.read_csv(\"/Users/asebyrm/PycharmProjects/LSTMV502/data/product_category_map.csv\")\n",
    "\n"
   ]
  }
 ],
 "metadata": {
  "kernelspec": {
   "display_name": "Python 3",
   "language": "python",
   "name": "python3"
  },
  "language_info": {
   "codemirror_mode": {
    "name": "ipython",
    "version": 2
   },
   "file_extension": ".py",
   "mimetype": "text/x-python",
   "name": "python",
   "nbconvert_exporter": "python",
   "pygments_lexer": "ipython2",
   "version": "2.7.6"
  }
 },
 "nbformat": 4,
 "nbformat_minor": 5
}
