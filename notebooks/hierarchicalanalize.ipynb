{
 "cells": [
  {
   "cell_type": "code",
   "execution_count": 7,
   "id": "initial_id",
   "metadata": {
    "collapsed": true,
    "ExecuteTime": {
     "end_time": "2024-12-24T01:39:03.104606Z",
     "start_time": "2024-12-24T01:39:03.079369Z"
    }
   },
   "outputs": [
    {
     "data": {
      "text/plain": "   product_id  manufacturer_id  attribute_1  attribute_2  attribute_3  \\\n0       22665              861            4            0          490   \n1       28640             1366           10            1          537   \n2       13526             1090           10            0          511   \n3       21399             1090           10            1          511   \n4        8504              768            4            1          484   \n\n   attribute_4  attribute_5                                         categories  \n0            2           66                            [2890, 855, 3908, 3909]  \n1            0          101                                                NaN  \n2            0            0  [3270, 163, 284, 1694, 12, 3837, 2422, 3595, 3...  \n3            0            0                                             [3270]  \n4            0           66                                             [2470]  ",
      "text/html": "<div>\n<style scoped>\n    .dataframe tbody tr th:only-of-type {\n        vertical-align: middle;\n    }\n\n    .dataframe tbody tr th {\n        vertical-align: top;\n    }\n\n    .dataframe thead th {\n        text-align: right;\n    }\n</style>\n<table border=\"1\" class=\"dataframe\">\n  <thead>\n    <tr style=\"text-align: right;\">\n      <th></th>\n      <th>product_id</th>\n      <th>manufacturer_id</th>\n      <th>attribute_1</th>\n      <th>attribute_2</th>\n      <th>attribute_3</th>\n      <th>attribute_4</th>\n      <th>attribute_5</th>\n      <th>categories</th>\n    </tr>\n  </thead>\n  <tbody>\n    <tr>\n      <th>0</th>\n      <td>22665</td>\n      <td>861</td>\n      <td>4</td>\n      <td>0</td>\n      <td>490</td>\n      <td>2</td>\n      <td>66</td>\n      <td>[2890, 855, 3908, 3909]</td>\n    </tr>\n    <tr>\n      <th>1</th>\n      <td>28640</td>\n      <td>1366</td>\n      <td>10</td>\n      <td>1</td>\n      <td>537</td>\n      <td>0</td>\n      <td>101</td>\n      <td>NaN</td>\n    </tr>\n    <tr>\n      <th>2</th>\n      <td>13526</td>\n      <td>1090</td>\n      <td>10</td>\n      <td>0</td>\n      <td>511</td>\n      <td>0</td>\n      <td>0</td>\n      <td>[3270, 163, 284, 1694, 12, 3837, 2422, 3595, 3...</td>\n    </tr>\n    <tr>\n      <th>3</th>\n      <td>21399</td>\n      <td>1090</td>\n      <td>10</td>\n      <td>1</td>\n      <td>511</td>\n      <td>0</td>\n      <td>0</td>\n      <td>[3270]</td>\n    </tr>\n    <tr>\n      <th>4</th>\n      <td>8504</td>\n      <td>768</td>\n      <td>4</td>\n      <td>1</td>\n      <td>484</td>\n      <td>0</td>\n      <td>66</td>\n      <td>[2470]</td>\n    </tr>\n  </tbody>\n</table>\n</div>"
     },
     "execution_count": 7,
     "metadata": {},
     "output_type": "execute_result"
    }
   ],
   "source": [
    "import pandas as pd\n",
    "import numpy as np\n",
    "\n",
    "product_catalog = pd.read_csv('../data/product_catalog.csv')\n",
    "product_category_map = pd.read_csv('../data/product_category_map.csv')\n",
    "\n",
    "\n",
    "product_catalog.head()"
   ]
  },
  {
   "cell_type": "code",
   "outputs": [
    {
     "data": {
      "text/plain": "    product_id                                         categories\n0        22665                            [2890, 855, 3908, 3909]\n1        28640                                                NaN\n2        13526  [3270, 163, 284, 1694, 12, 3837, 2422, 3595, 3...\n3        21399                                             [3270]\n4         8504                                             [2470]\n..         ...                                                ...\n95       20693                                                NaN\n96       14790                                                NaN\n97       26906                                 [1591, 2312, 1283]\n98         337                                       [1591, 1283]\n99       27223                                       [3024, 3938]\n\n[100 rows x 2 columns]",
      "text/html": "<div>\n<style scoped>\n    .dataframe tbody tr th:only-of-type {\n        vertical-align: middle;\n    }\n\n    .dataframe tbody tr th {\n        vertical-align: top;\n    }\n\n    .dataframe thead th {\n        text-align: right;\n    }\n</style>\n<table border=\"1\" class=\"dataframe\">\n  <thead>\n    <tr style=\"text-align: right;\">\n      <th></th>\n      <th>product_id</th>\n      <th>categories</th>\n    </tr>\n  </thead>\n  <tbody>\n    <tr>\n      <th>0</th>\n      <td>22665</td>\n      <td>[2890, 855, 3908, 3909]</td>\n    </tr>\n    <tr>\n      <th>1</th>\n      <td>28640</td>\n      <td>NaN</td>\n    </tr>\n    <tr>\n      <th>2</th>\n      <td>13526</td>\n      <td>[3270, 163, 284, 1694, 12, 3837, 2422, 3595, 3...</td>\n    </tr>\n    <tr>\n      <th>3</th>\n      <td>21399</td>\n      <td>[3270]</td>\n    </tr>\n    <tr>\n      <th>4</th>\n      <td>8504</td>\n      <td>[2470]</td>\n    </tr>\n    <tr>\n      <th>...</th>\n      <td>...</td>\n      <td>...</td>\n    </tr>\n    <tr>\n      <th>95</th>\n      <td>20693</td>\n      <td>NaN</td>\n    </tr>\n    <tr>\n      <th>96</th>\n      <td>14790</td>\n      <td>NaN</td>\n    </tr>\n    <tr>\n      <th>97</th>\n      <td>26906</td>\n      <td>[1591, 2312, 1283]</td>\n    </tr>\n    <tr>\n      <th>98</th>\n      <td>337</td>\n      <td>[1591, 1283]</td>\n    </tr>\n    <tr>\n      <th>99</th>\n      <td>27223</td>\n      <td>[3024, 3938]</td>\n    </tr>\n  </tbody>\n</table>\n<p>100 rows × 2 columns</p>\n</div>"
     },
     "execution_count": 8,
     "metadata": {},
     "output_type": "execute_result"
    }
   ],
   "source": [
    "product_catalog = product_catalog.drop(columns=[\"manufacturer_id\",\"attribute_1\", \"attribute_2\", \"attribute_3\", \"attribute_4\", \"attribute_5\"])\n",
    "product_catalog.head(100)\n"
   ],
   "metadata": {
    "collapsed": false,
    "ExecuteTime": {
     "end_time": "2024-12-24T01:39:03.827013Z",
     "start_time": "2024-12-24T01:39:03.822104Z"
    }
   },
   "id": "1ebed2c39ba5810d",
   "execution_count": 8
  },
  {
   "cell_type": "code",
   "outputs": [],
   "source": [
    "#product_catalog.to_csv('../processed_data/products_and_categories.csv', index=False)\n",
    "\n",
    "products_and_categories = product_catalog"
   ],
   "metadata": {
    "collapsed": false,
    "ExecuteTime": {
     "end_time": "2024-12-24T01:39:04.479598Z",
     "start_time": "2024-12-24T01:39:04.478062Z"
    }
   },
   "id": "b151d9406daadc39",
   "execution_count": 9
  },
  {
   "cell_type": "code",
   "outputs": [
    {
     "data": {
      "text/plain": "    category_id  parent_category_id\n0             0                  75\n1             1                1499\n2             2                1082\n3             3                3498\n4             4                1623\n..          ...                 ...\n95           95                 521\n96           96                3870\n97           97                2364\n98           98                3849\n99           99                2061\n\n[100 rows x 2 columns]",
      "text/html": "<div>\n<style scoped>\n    .dataframe tbody tr th:only-of-type {\n        vertical-align: middle;\n    }\n\n    .dataframe tbody tr th {\n        vertical-align: top;\n    }\n\n    .dataframe thead th {\n        text-align: right;\n    }\n</style>\n<table border=\"1\" class=\"dataframe\">\n  <thead>\n    <tr style=\"text-align: right;\">\n      <th></th>\n      <th>category_id</th>\n      <th>parent_category_id</th>\n    </tr>\n  </thead>\n  <tbody>\n    <tr>\n      <th>0</th>\n      <td>0</td>\n      <td>75</td>\n    </tr>\n    <tr>\n      <th>1</th>\n      <td>1</td>\n      <td>1499</td>\n    </tr>\n    <tr>\n      <th>2</th>\n      <td>2</td>\n      <td>1082</td>\n    </tr>\n    <tr>\n      <th>3</th>\n      <td>3</td>\n      <td>3498</td>\n    </tr>\n    <tr>\n      <th>4</th>\n      <td>4</td>\n      <td>1623</td>\n    </tr>\n    <tr>\n      <th>...</th>\n      <td>...</td>\n      <td>...</td>\n    </tr>\n    <tr>\n      <th>95</th>\n      <td>95</td>\n      <td>521</td>\n    </tr>\n    <tr>\n      <th>96</th>\n      <td>96</td>\n      <td>3870</td>\n    </tr>\n    <tr>\n      <th>97</th>\n      <td>97</td>\n      <td>2364</td>\n    </tr>\n    <tr>\n      <th>98</th>\n      <td>98</td>\n      <td>3849</td>\n    </tr>\n    <tr>\n      <th>99</th>\n      <td>99</td>\n      <td>2061</td>\n    </tr>\n  </tbody>\n</table>\n<p>100 rows × 2 columns</p>\n</div>"
     },
     "execution_count": 10,
     "metadata": {},
     "output_type": "execute_result"
    }
   ],
   "source": [
    "product_category_map.head(100)"
   ],
   "metadata": {
    "collapsed": false,
    "ExecuteTime": {
     "end_time": "2024-12-24T01:39:05.073292Z",
     "start_time": "2024-12-24T01:39:05.069314Z"
    }
   },
   "id": "e196bab6ec339756",
   "execution_count": 10
  }
 ],
 "metadata": {
  "kernelspec": {
   "display_name": "Python 3",
   "language": "python",
   "name": "python3"
  },
  "language_info": {
   "codemirror_mode": {
    "name": "ipython",
    "version": 2
   },
   "file_extension": ".py",
   "mimetype": "text/x-python",
   "name": "python",
   "nbconvert_exporter": "python",
   "pygments_lexer": "ipython2",
   "version": "2.7.6"
  }
 },
 "nbformat": 4,
 "nbformat_minor": 5
}
